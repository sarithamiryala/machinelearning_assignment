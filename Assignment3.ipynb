{
 "cells": [
  {
   "cell_type": "code",
   "execution_count": null,
   "id": "6d4b800d",
   "metadata": {},
   "outputs": [],
   "source": [
    "1.Explain the term machine learning, and how does it work? Explain two machine learning\n",
    "applications in the business world. What are some of the ethical concerns that machine learning\n",
    "applications could raise?\n"
   ]
  },
  {
   "cell_type": "code",
   "execution_count": null,
   "id": "6b1b3e52",
   "metadata": {},
   "outputs": [],
   "source": [
    "Machine Learning is a subset of Artificial Intelligence which provides mathematical tools to analyze data, do Exploratory Data Analysis, make predictive models and exposed APIs and more. Machine Learning works by providing the computer capability to make predictions or help analysis of data by creating complex algorithmic models that are trained to work within constraints that have to be specified in training data. Ethical concerns that machine learning applications can raise are data related. As more and more data hungry applications are being created, the fine line between ethical handling and collection of data from various sources may blur. For this reason, we need sanity checks in place.*\n",
    "\n",
    "Applications:\n",
    "\n",
    "a. Learning the overall sentiment of consumers regarding a product launched a while ago using their reviews on an e-commerce website using Natural Language Processing to understand how the product is faring in the market\n",
    "\n",
    "b. Using machine learning algorithms to cluster similar customers and provide them recommendations based on their history, on a streaming service platform."
   ]
  },
  {
   "cell_type": "code",
   "execution_count": null,
   "id": "6bad5d8c",
   "metadata": {},
   "outputs": [],
   "source": [
    "2. Describe the process of human learning:\n",
    "i. Under the supervision of experts\n",
    "\n",
    "ii. With the assistance of experts in an indirect manner\n",
    "\n",
    "iii. Self-education\n",
    "\n"
   ]
  },
  {
   "cell_type": "code",
   "execution_count": null,
   "id": "fc3ff2a9",
   "metadata": {},
   "outputs": [],
   "source": [
    "Under the supervision of experts\n",
    "Ans->Under supervision, learning is defined by guidance provided to the learner. This guidance or supervision trains the learner to solve certain type of problems. Problems can range from formal communication, to mathematical calculations. Pre-calculated answers provide for rectifications and course correction during learning.\n",
    "\n",
    "ii. With the assistance of experts in an indirect manner\n",
    "Ans->Under indirect assistance, learning is defined by guidance provided to the learner through indirect means. These indirect means can range from books, to periodic advise from experts. This guidance or supervision trains the learner to solve certain type of problems but not as easily as under supervision. Problems can range from formal communication, to mathematical calculations. Expert indirect guidance provide for only limited rectifications and course correction during learning.\n",
    "\n",
    "iii. Self-education\n",
    "Ans->Under no supervision, learning is defined by self guidance provided to the learner by himself. The learner has the entire burden of finding ways to solve certain type of problems. Problems can range from formal communication, to mathematical calculations. Only self-calculated answers provide for rectifications and course correction during learning."
   ]
  },
  {
   "cell_type": "code",
   "execution_count": null,
   "id": "2e9c2257",
   "metadata": {},
   "outputs": [],
   "source": [
    "3. Provide a few examples of various types of machine learning."
   ]
  },
  {
   "cell_type": "code",
   "execution_count": null,
   "id": "863b693b",
   "metadata": {},
   "outputs": [],
   "source": [
    "a. Supervised machine learning- Logistic Regression, Random Forest Classifier, Naive Bayes Classifier\n",
    "\n",
    "b. Unsupervised machine learning- Heirarchichal clustering, DBSCAN algorithm, K means and K medoids algorithms .\n",
    "\n",
    "c. Semi-supervised machine learning- Associative reinforcement learning, deep reinforcement learning."
   ]
  },
  {
   "cell_type": "code",
   "execution_count": null,
   "id": "94a30336",
   "metadata": {},
   "outputs": [],
   "source": [
    "4. Examine the various forms of machine learning."
   ]
  },
  {
   "cell_type": "code",
   "execution_count": null,
   "id": "5072de31",
   "metadata": {},
   "outputs": [],
   "source": [
    "Supervised Machine Learning is a form of machine learning which involves target variable as labeled data, and independent variables. Using labeled dataset, training is supervised and predictions are made."
   ]
  },
  {
   "cell_type": "code",
   "execution_count": null,
   "id": "ffe1b63b",
   "metadata": {},
   "outputs": [],
   "source": [
    "5. Can you explain what a well-posed learning problem is? Explain the main characteristics that must\n",
    "be present to identify a learning problem properly."
   ]
  },
  {
   "cell_type": "code",
   "execution_count": null,
   "id": "2bebad10",
   "metadata": {},
   "outputs": [],
   "source": [
    "If a machine learning model learns from certain type of actions that it can record, to do some specific task after evaluating itself using an evaluation metric, then it would be called a well posed learning problem\n",
    "\n",
    "The main characteristics that must be present are:\n",
    "\n",
    "a. A task that has to be done by the machine learning model\n",
    "\n",
    "b. An action that has to be recorded and learned from by the model\n",
    "\n",
    "c. Evaluation metric using which the efficacy of the machine learning model can be measured."
   ]
  },
  {
   "cell_type": "code",
   "execution_count": null,
   "id": "6a3e2d4f",
   "metadata": {},
   "outputs": [],
   "source": [
    "6. Is machine learning capable of solving all problems? Give a detailed explanation of your answer."
   ]
  },
  {
   "cell_type": "code",
   "execution_count": null,
   "id": "1f53fcf0",
   "metadata": {},
   "outputs": [],
   "source": [
    "No. Machine learning cannot solve all problems. It can only be used to solve well defined objectives that are not vague. Objective solving capability is also limited by the statistical tools and mathematical algorithms that exist today.\n",
    "\n",
    "A problem like predicted the chances of terminal cancer in a patient or classifying a spam mail is still in the domain of well defined objectives. Trying to solve objectives like eradicating world wide hunger, creating actual medicine for all kinds of cancers or, reanimating a cryogenically frozen animal through machine learning is not possible. Some portions of the bigger problems however, can fall in the range of machine learning.\n",
    "\n",
    "Predicting the food shortage world might face in the next 5 years can be done using machine learning. Using this prediction, world leaders can formulate a strategy to counter food shortage.\n",
    "\n",
    "Diving down to the cellular level and using computer vision to predict which kind of cell may turn cancerous using a sample of different cells, based on lifestyle, current health and other factors might be possible using machine learning.\n",
    "\n",
    "So, Machine Learning is not the solution to every problem. But it can certainly ease some of the constraints by solving them for us, or at least a portion of the problem."
   ]
  },
  {
   "cell_type": "code",
   "execution_count": null,
   "id": "2e6ef4d1",
   "metadata": {},
   "outputs": [],
   "source": [
    "7. What are the various methods and technologies for solving machine learning problems? Any two\n",
    "of them should be defined in detail."
   ]
  },
  {
   "cell_type": "code",
   "execution_count": null,
   "id": "674ad99f",
   "metadata": {},
   "outputs": [],
   "source": [
    "The various methods and technologies for solving machine learning problems are->\n",
    "\n",
    "a. Ensemble methods\n",
    "\n",
    "b. Regression\n",
    "\n",
    "c. Classification\n",
    "\n",
    "d. Reinforcement learning\n",
    "\n",
    "Models that incorporate the use of multiple base learner models that work simultaneously to produce results are ensemble models. A key aspect of ensemble models is that more different the base learners are, more powerful is the combination and hence more accurate predictions. There are 4 types of ensemble model\n",
    "\n",
    "Bagging which is also called Bootstrap aggregation. Multiple base learners learn on subsets of data. A majority vote based on the results of the individual base learners is then used to output the final result.\n",
    "\n",
    "Boosting is mainly used to reduce bias in model. Multiple base learners are trained in a sequence in which each learner covers up the weakness of the previous learner to ultimately produce a powerful model.\n",
    "\n",
    "Stacking is an ensemble model that combines multiple base learner models constructed parallel to each other and independent. All the models produce predictions that are used creating a meta classifier which is trained on the predictions made by base models. The resultant prediction is then taken as the final prediction. Space and Time complexity issue is huge for stacking models."
   ]
  },
  {
   "cell_type": "code",
   "execution_count": null,
   "id": "a8b60cf5",
   "metadata": {},
   "outputs": [],
   "source": [
    "8. Can you explain the various forms of supervised learning? Explain each one with an example\n",
    "application."
   ]
  },
  {
   "cell_type": "code",
   "execution_count": null,
   "id": "a7ebb580",
   "metadata": {},
   "outputs": [],
   "source": [
    "he Various forms of Supervised Learning are->\n",
    "\n",
    "Logistic Regression->\n",
    "\n",
    "It is a binary classification algorithm based on linear regression. A hyperplane is fit using a mathematical equation such that most of training data points are correctly classified into two class labels. Lambda is used as the hyperparameter. Lambda=0 would lead to overfitting and large lambda would lead to underfitting. Logistic Regression can be easily applied for classifying whether a voter would vote for BJP or Congress based on factors like number of visits by politicians, work done in their neighborhood etc.\n",
    "\n",
    "Decision Tree->\n",
    "\n",
    "It is a multi class classifier that creates multiple hyperplanes to funnel down the data points based on criteria and classify data points that pass certain threshold/criteria and do not. In a different sense, it creates up side down trees and keeps splitting data points for each criteria they pass and do not pass. Decision Tree is based on the concept of maximising the information gain from splitting the data points using criterias. Depth is the hyperparameter for Decision Trees and needs to be tuned. Large depths can lead to overfitting while small depths lead to underfitting. Classifying the data points using each passed criteria for Petal length, petal width, sepal length and sepal width can be done for IRIS dataset.\n",
    "\n",
    "K-NN->\n",
    "\n",
    "K nearest neighbors requires nearest instances or similar instances for a data point to be successfully classified. Normally, training data is learned for model generation. But, here training examples are stored. Distance function is used to find closest examples to an instance so that successful prediction can be made. K-NN can be used for recommendation systems where the input instance is checked for closest training example and then data point is classified into a group for which recommendations can be made.\n",
    "\n",
    "Linear Regression->\n",
    "\n",
    "It is a regression algorithm that tries to fit a straight line over data points in a 2-D plane where the two variables involved are highly correlated with each other and are independent and not collinear. Main idea is to keep the root mean squared error values(distances between the line to be fit and the training data points) minimum. An HR department of an organization can use the current experience of a professional they wish to interview, to get an idea about how much salary can be given to him/her as salaries are highly positively correlated with experience."
   ]
  },
  {
   "cell_type": "code",
   "execution_count": null,
   "id": "a7112f96",
   "metadata": {},
   "outputs": [],
   "source": [
    "9. What is the difference between supervised and unsupervised learning? With a sample application\n",
    "in each region, explain the differences."
   ]
  },
  {
   "cell_type": "code",
   "execution_count": null,
   "id": "e1654989",
   "metadata": {},
   "outputs": [],
   "source": [
    "Supervised machine learning is type of machine learning in which machines are trained using\n",
    "well \"labelled\" training data, and on basis of that data machine predict the output.\n",
    "\n",
    "LinearRegression, logistic regression , Gradient Descent,SVR , random forest, decision trees are some supervised algorithms\n",
    "Example: predicting,forecasting and finding relationship betwen quantitative data.\n",
    "\n",
    "    \n",
    "Unsupervised Machine Learning: Unsupervised machine learning uses machine algorithms to analyze and cluster\n",
    "unlabeled datasets. These algorithms discover hidden patterns or data grouping without the need for human intervention.\n",
    "\n",
    "PCA,Hierarchical clustering and K-Means are some unsupervised machine learning.\n",
    "Example:\n",
    "    \n"
   ]
  },
  {
   "cell_type": "code",
   "execution_count": null,
   "id": "673a0ef9",
   "metadata": {},
   "outputs": [],
   "source": [
    "10. Describe the machine learning process in depth.\n",
    "\n",
    "a. Make brief notes on any two of the following:\n",
    "\n",
    "MATLAB is one of the most widely used programming languages.\n",
    "\n",
    "ii. Deep learning applications in healthcare\n",
    "\n",
    "iii. Study of the market basket\n",
    "\n",
    "iv. Linear regression (simple)\n",
    "\n"
   ]
  },
  {
   "cell_type": "code",
   "execution_count": null,
   "id": "3c637077",
   "metadata": {},
   "outputs": [],
   "source": [
    "First step is to specify the problem statement we wish to solve\n",
    "\n",
    "Next, we collect data relevant to our problem statement. Data collection can be through webscraping, surveys, company records\n",
    "\n",
    "Data has to be cleaned and manipulated, null values removed or imputed. Cleaned data also needs to be split into training and test set so that it is usable by machine learning model for learning phase.\n",
    "\n",
    "We train the machine learning model over the collected and cleaned data. Training can be supervised or unsupervised, depending upon the problem statement and the availability of labeled data.\n",
    "\n",
    "Next, we test the trained machine learning model using performance metrics based on the type of problem we are solving and the algorithm we used. For Regression, we may use the R-squared value. For classification, we can use log losses, recall and precision scores etc. If unsupervised model is built, we might use the DB Index."
   ]
  },
  {
   "cell_type": "markdown",
   "id": "56f05a4d",
   "metadata": {},
   "source": []
  },
  {
   "cell_type": "code",
   "execution_count": null,
   "id": "b99d2201",
   "metadata": {},
   "outputs": [],
   "source": [
    "11. Make a comparison between:-\n",
    "\n",
    "1. Generalization and abstraction\n",
    "\n",
    "2. Learning that is guided and unsupervised\n",
    "\n",
    "3. Regression and classification"
   ]
  },
  {
   "cell_type": "markdown",
   "id": "86728a4b",
   "metadata": {},
   "source": [
    "Regression: Regression is used to predict continous values like age,salary,prices etc...\n",
    "    \n",
    "\n",
    "classification:Classification is used to predict True/False, Spam/Notspam, detected/undetecte\n",
    "    male/female etc...\n",
    "    \n",
    "\n",
    "Generalization refers to model's ability to adapt to properly to new, previously unseenn data,drawn from same distribution as the one used to create th\n"
   ]
  },
  {
   "cell_type": "code",
   "execution_count": null,
   "id": "fce572de",
   "metadata": {},
   "outputs": [],
   "source": []
  }
 ],
 "metadata": {
  "kernelspec": {
   "display_name": "Python 3 (ipykernel)",
   "language": "python",
   "name": "python3"
  },
  "language_info": {
   "codemirror_mode": {
    "name": "ipython",
    "version": 3
   },
   "file_extension": ".py",
   "mimetype": "text/x-python",
   "name": "python",
   "nbconvert_exporter": "python",
   "pygments_lexer": "ipython3",
   "version": "3.9.7"
  }
 },
 "nbformat": 4,
 "nbformat_minor": 5
}
