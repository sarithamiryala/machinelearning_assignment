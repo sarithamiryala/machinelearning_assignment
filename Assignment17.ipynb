{
 "cells": [
  {
   "cell_type": "code",
   "execution_count": null,
   "id": "69c9a984",
   "metadata": {},
   "outputs": [],
   "source": [
    "1. Using a graph to illustrate slope and intercept, define basic linear regression."
   ]
  },
  {
   "cell_type": "code",
   "execution_count": 1,
   "id": "bb3e698f",
   "metadata": {},
   "outputs": [
    {
     "data": {
      "image/png": "[encoded data removed]",
      "text/plain": [
       "<Figure size 432x288 with 1 Axes>"
      ]
     },
     "metadata": {
      "needs_background": "light"
     },
     "output_type": "display_data"
    }
   ],
   "source": [
    "# Ans-> The equation y=mx+c represents a straight line graphically, where m is its slope/gradient and c its intercept.\n",
    "#       In this code, I am plotting y=mx+b  with Matplotlib.\n",
    "import matplotlib.pyplot as plt\n",
    "import numpy as np\n",
    "x = np.linspace(-5,5,100)\n",
    "y = 2*x+1\n",
    "plt.plot(x, y, '-r', label='y=2x+1')\n",
    "plt.title('Graph of y=2x+1')\n",
    "plt.xlabel('x', color='#1C2833')\n",
    "plt.ylabel('y', color='#1C2833')\n",
    "plt.legend(loc='upper left')\n",
    "plt.grid()\n",
    "plt.show()"
   ]
  },
  {
   "cell_type": "code",
   "execution_count": null,
   "id": "1d2a3777",
   "metadata": {},
   "outputs": [],
   "source": [
    "2. In a graph, explain the terms rise, run, and slope.\n",
    "Ans->The slope of a line measures the steepness of the line. Most of we are probably familiar with associating slope with \"rise over run\". Rise means how many units we move up or down from point to point. On the graph that would be a change in the y values. Run means how far left or right we move from point to point."
   ]
  },
  {
   "cell_type": "code",
   "execution_count": null,
   "id": "f60b8c28",
   "metadata": {},
   "outputs": [],
   "source": [
    "3. Use a graph to demonstrate slope, linear positive slope, and linear negative slope, as well as the different conditions that contribute to the slope."
   ]
  },
  {
   "cell_type": "code",
   "execution_count": null,
   "id": "26aca756",
   "metadata": {},
   "outputs": [],
   "source": [
    "# Ans-> The steepness of a hill is called a slope. The same goes for the steepness of a line. The slope is defined as the\n",
    "#       ratio of the vertical change between two points, the rise, to the horizontal change between the same two points, \n",
    "#       the run.\n",
    "#       slope=rise/run=changeiny/changeinx\n",
    "#       The slope of a line is usually represented by the letter m. (x1, y1) represents the first point whereas (x2, y2) \n",
    "#       represents the second point.\n",
    "#       m=y2−y1/x2−x1\n",
    "#       It is important to keep the x-and y-coordinates in the same order in both the numerator and the denominator otherwise\n",
    "#       we will get the wrong slope."
   ]
  },
  {
   "cell_type": "code",
   "execution_count": null,
   "id": "14c269a4",
   "metadata": {},
   "outputs": [],
   "source": [
    "4. Use a graph to demonstrate curve linear negative slope and curve linear positive slope.\n",
    "Ans->Image result for a graph to demonstrate curve linear negative slope and curve linear positive slope.I f the signs are different then the answer is negative! If the slope is negative we can plot our next point by going down and right OR up and left. If the slope is positive we can plot our next point by going up and right OR down and left.\n",
    "\n",
    "5. Use a graph to show the maximum and low points of curves.\n",
    "Ans->To find the maximum/minimum of a curve we must first differentiate the function and then equate it to zero. This gives us one coordinate. To find the other we must resubstitute the one already found into the original function.\n",
    "\n",
    "6. Use the formulas for a and b to explain ordinary least squares.\n",
    "Ans->This best line is the Least Squares Regression Line (abbreviated as LSRL). This is true where ˆy is the predicted y-value given x, a is the y intercept, b and is the slope. For every x-value, the Least Squares Regression Line makes a predicted y-value that is close to the observed y-value, but usually slightly off.\n",
    "\n",
    "7. Provide a step-by-step explanation of the OLS algorithm.\n",
    "Ans-> Ordinary Least Square Method\n",
    "\n",
    "Set a difference between dependent variable and its estimation\n",
    "\n",
    "Square the difference\n",
    "\n",
    "Take summation for all data\n",
    "\n",
    "To get the parameters that make the sum of square difference become minimum, take partial derivative for each parameter and equate it with zero"
   ]
  },
  {
   "cell_type": "code",
   "execution_count": null,
   "id": "af6170ec",
   "metadata": {},
   "outputs": [],
   "source": [
    "8. What is the regression's standard error? To represent the same, make a graph.\n",
    "Ans->The standard error of the regression (S), also known as the standard error of the estimate, represents the average distance that the observed values fall from the regression line. Conveniently, it tells us how wrong the regression model is on average using the units of the response variable.\n",
    "\n"
   ]
  },
  {
   "cell_type": "code",
   "execution_count": null,
   "id": "652cf39f",
   "metadata": {},
   "outputs": [],
   "source": [
    "9. Provide an example of multiple linear regression.\n",
    "Ans-> Multiple Linear Regression is one of the important regression algorithms which predicts the linear relationship between a single dependent continuous variable and more than one independent variable. Example: Prediction of CO2 emission based on engine size and number of cylinders in a car.\n",
    "\n",
    "10. Describe the regression analysis assumptions and the BLUE principle.\n",
    "Ans->There are four assumptions associated with a linear regression model:\n",
    "\n",
    "1.Linearity: The relationship between X and the mean of Y is linear.\n",
    "\n",
    "2.Homoscedasticity: The variance of residual is the same for any value of X.\n",
    "\n",
    "3.Independence: Observations are independent of each other.\n",
    "\n",
    "4.BLUE is an acronym for the following: Best Linear Unbiased Estimator. In this context, the definition of “best” refers to the minimum variance or the narrowest sampling distribution.\n",
    "\n",
    "11. Describe two major issues with regression analysis.\n",
    "Ans->It involves very lengthy and complicated procedure of calculations and analysis. It cannot be used in case of qualitative phenomenon viz. honesty, crime etc.\n",
    "\n",
    "The overall idea of regression is to examine two things:\n",
    "\n",
    "(1) does a set of predictor variables do a good job in predicting an outcome (dependent) variable?\n",
    "\n",
    "(2) Which variables in particular are significant predictors of the outcome variable, and in what way do they–indicated by the magnitude and sign of the beta\n",
    "\n",
    "12. How can the linear regression model's accuracy be improved?\n",
    "Ans-> 8 Methods to Boost the Accuracy of a Model->\n",
    "a) Add more data. Having more data is always a good idea.\n",
    "\n",
    "b) Treat missing and Outlier values.\n",
    "\n",
    "c) Feature Engineering.\n",
    "\n",
    "d) Feature Selection.\n",
    "\n",
    "e) Multiple algorithms.\n",
    "\n",
    "f) Algorithm Tuning.\n",
    "\n",
    "g) Ensemble methods.\n",
    "\n",
    "13. Using an example, describe the polynomial regression model in detail.\n",
    "Ans->In statistics, polynomial regression is a form of regression analysis in which the relationship between the independent variable x and the dependent variable y is modelled as an nth degree polynomial in x.For this reason, polynomial regression is considered to be a special case of multiple linear regression.\n",
    "\n",
    "Polynomial regression is one of the machine learning algorithms used for making predictions. For example, it is widely applied to predict the spread rate of COVID-19 and other infectious diseases.\n",
    "\n",
    "14. Provide a detailed explanation of logistic regression.\n",
    "Ans->Logistic regression is a statistical analysis method used to predict a data value based on prior observations of a data set.Based on historical data about earlier outcomes involving the same input criteria, it then scores new cases on their probability of falling into a particular outcome category.\n",
    "\n",
    "15. What are the logistic regression assumptions?\n",
    "Ans->Basic assumptions that must be met for logistic regression include independence of errors, linearity in the logistic for continuous variables, absence of multicollinearity, and lack of strongly influential outliers.\n",
    "\n",
    "16. Go through the details of maximum likelihood estimation.\n",
    "Ans-> Maximum likelihood estimation is a method that determines values for the parameters of a model. The parameter values are found such that they maximise the likelihood that the process described by the model produced the data that were actually observed."
   ]
  }
 ],
 "metadata": {
  "kernelspec": {
   "display_name": "Python 3 (ipykernel)",
   "language": "python",
   "name": "python3"
  },
  "language_info": {
   "codemirror_mode": {
    "name": "ipython",
    "version": 3
   },
   "file_extension": ".py",
   "mimetype": "text/x-python",
   "name": "python",
   "nbconvert_exporter": "python",
   "pygments_lexer": "ipython3",
   "version": "3.9.7"
  }
 },
 "nbformat": 4,
 "nbformat_minor": 5
}
